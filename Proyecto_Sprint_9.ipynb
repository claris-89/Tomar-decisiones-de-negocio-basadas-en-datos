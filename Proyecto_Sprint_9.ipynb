{
 "cells": [
  {
   "cell_type": "markdown",
   "metadata": {},
   "source": [
    "Hola Clara!\n",
    "\n",
    "Soy **Patricio Requena** 👋. Es un placer ser el revisor de tu proyecto el día de hoy!\n",
    "\n",
    "Revisaré tu proyecto detenidamente con el objetivo de ayudarte a mejorar y perfeccionar tus habilidades. Durante mi revisión, identificaré áreas donde puedas hacer mejoras en tu código, señalando específicamente qué y cómo podrías ajustar para optimizar el rendimiento y la claridad de tu proyecto. Además, es importante para mí destacar los aspectos que has manejado excepcionalmente bien. Reconocer tus fortalezas te ayudará a entender qué técnicas y métodos están funcionando a tu favor y cómo puedes aplicarlos en futuras tareas. \n",
    "\n",
    "_**Recuerda que al final de este notebook encontrarás un comentario general de mi parte**_, empecemos!\n",
    "\n",
    "Encontrarás mis comentarios dentro de cajas verdes, amarillas o rojas, ⚠️ **por favor, no muevas, modifiques o borres mis comentarios** ⚠️:\n",
    "\n",
    "\n",
    "<div class=\"alert alert-block alert-success\">\n",
    "<b>Comentario del revisor</b> <a class=“tocSkip”></a>\n",
    "Si todo está perfecto.\n",
    "</div>\n",
    "\n",
    "<div class=\"alert alert-block alert-warning\">\n",
    "<b>Comentario del revisor</b> <a class=“tocSkip”></a>\n",
    "Si tu código está bien pero se puede mejorar o hay algún detalle que le hace falta.\n",
    "</div>\n",
    "\n",
    "<div class=\"alert alert-block alert-danger\">\n",
    "<b>Comentario del revisor</b> <a class=“tocSkip”></a>\n",
    "Si de pronto hace falta algo o existe algún problema con tu código o conclusiones.\n",
    "</div>\n",
    "\n",
    "Puedes responderme de esta forma:\n",
    "<div class=\"alert alert-block alert-info\">\n",
    "<b>Respuesta del estudiante</b> <a class=“tocSkip”></a>\n",
    "</div>"
   ]
  },
  {
   "cell_type": "markdown",
   "metadata": {},
   "source": [
    "# Introducción "
   ]
  },
  {
   "cell_type": "markdown",
   "metadata": {},
   "source": [
    "El presente trabajo se refiere a la importancia de realizar pruebas antes de realizar un cambio. Las pruebas A/B sirven para encontrar datos estadísticos acerca de tu audiencia y obtener conclusiones a diferentes hipótesis. Además, ayudan a refinar y acelerar tus procesos de conversión a fin de lograr que más visitantes se conviertan en leads y clientes.\n",
    "\n",
    "La caracteristica principal de las pruebas A/B implican la creación de 2 versiones de un activo digital para ver a cuál responden mejor los usuarios. Los ejemplos de activos incluyen páginas de destino, anuncios gráficos, correos electrónicos de marketing y publicaciones en redes sociales. En una prueba A/B, la mitad de tu público recibe automáticamente la \"versión A\" y la otra mitad recibe la \"versión B\". El rendimiento de cada versión se basa en el objetivo de la tasa de conversión, como el porcentaje de personas que hacen clic en un enlace, completan un formulario o hacen una compra.\n",
    "\n",
    "Las pruebas A/B, junto con otras estrategias de optimización de conversión, te permiten probar cosas para que puedas mejorar tus contenidos, proporcionar las mejores experiencias a los clientes y llegar a tus objetivos de conversión más rápido.\n",
    "\n",
    "Para analizar como funcionan este tipo de pruebas en el presente trabajo se desarrolla un ejemplo de como llevar a cabo estas pruebas en un entorno de programacion con python. "
   ]
  },
  {
   "cell_type": "markdown",
   "metadata": {},
   "source": [
    "<div class=\"alert alert-block alert-success\">\n",
    "<b>Comentario del revisor (1ra Iteracion)</b> <a class=“tocSkip”></a>\n",
    "\n",
    "Excelente trabajo incluyendo la tabla de contenidos y la redacción de la introducción! Procura mantener esta práctica en tus próximos proyectos ya que esto ayuda a entender el objetivo del proyecto\n",
    "</div>"
   ]
  },
  {
   "cell_type": "markdown",
   "metadata": {},
   "source": [
    "## 1. Preprocesamiento de datos "
   ]
  },
  {
   "cell_type": "code",
   "execution_count": 1,
   "metadata": {},
   "outputs": [],
   "source": [
    "# Importación de librerias\n",
    "import pandas as pd\n",
    "from pandas import pivot_table\n",
    "import numpy as np\n",
    "import seaborn as sns\n",
    "from matplotlib import pyplot as plt\n",
    "from scipy import stats as st\n",
    "from datetime import datetime\n",
    "import datetime as dt\n",
    "import scipy.stats as stats"
   ]
  },
  {
   "cell_type": "code",
   "execution_count": 2,
   "metadata": {},
   "outputs": [
    {
     "data": {
      "text/plain": [
       "'# Lectura de los dataframes\\nhypotheses_us = pd.read_csv(\\n    \"c:/Users/cary_/OneDrive/Escritorio/Data analyst/Sprint 9/hypotheses_us.csv\", sep=\";\")\\norders_us = pd.read_csv(\\n    \"c:/Users/cary_/OneDrive/Escritorio/Data analyst/Sprint 9/orders_us.csv\")\\nvisits_us = pd.read_csv(\\n    \"c:/Users/cary_/OneDrive/Escritorio/Data analyst/Sprint 9/visits_us.csv\")'"
      ]
     },
     "execution_count": 2,
     "metadata": {},
     "output_type": "execute_result"
    }
   ],
   "source": [
    "# Lectura de los dataframes\n",
    "hypotheses_us = pd.read_csv(\n",
    "    \"/datasets/hypotheses_us.csv\", sep=\";\")\n",
    "orders_us = pd.read_csv(\n",
    "    \"/datasets/orders_us.csv\")\n",
    "visits_us = pd.read_csv(\n",
    "    \"/datasets/visits_us.csv\")\n",
    "\"\"\"# Lectura de los dataframes\n",
    "hypotheses_us = pd.read_csv(\n",
    "    \"c:/Users/cary_/OneDrive/Escritorio/Data analyst/Sprint 9/hypotheses_us.csv\", sep=\";\")\n",
    "orders_us = pd.read_csv(\n",
    "    \"c:/Users/cary_/OneDrive/Escritorio/Data analyst/Sprint 9/orders_us.csv\")\n",
    "visits_us = pd.read_csv(\n",
    "    \"c:/Users/cary_/OneDrive/Escritorio/Data analyst/Sprint 9/visits_us.csv\")\"\"\""
   ]
  },
  {
   "cell_type": "code",
   "execution_count": 3,
   "metadata": {},
   "outputs": [],
   "source": [
    "# Se crea una funcion para bajar los tipos de datos\n",
    "def downcast_dtypes(df):\n",
    "    float_cols = df.select_dtypes(\"float\").columns\n",
    "    int_cols = df.select_dtypes(\"integer\").columns\n",
    "\n",
    "    df[float_cols] = df[float_cols].apply(pd.to_numeric, downcast=\"float\")\n",
    "    df[int_cols] = df[int_cols].apply(pd.to_numeric, downcast=\"integer\")\n",
    "\n",
    "    return df"
   ]
  },
  {
   "cell_type": "code",
   "execution_count": 4,
   "metadata": {},
   "outputs": [
    {
     "name": "stdout",
     "output_type": "stream",
     "text": [
      "<class 'pandas.core.frame.DataFrame'>\n",
      "RangeIndex: 9 entries, 0 to 8\n",
      "Data columns (total 5 columns):\n",
      " #   Column      Non-Null Count  Dtype \n",
      "---  ------      --------------  ----- \n",
      " 0   Hypothesis  9 non-null      object\n",
      " 1   Reach       9 non-null      int64 \n",
      " 2   Impact      9 non-null      int64 \n",
      " 3   Confidence  9 non-null      int64 \n",
      " 4   Effort      9 non-null      int64 \n",
      "dtypes: int64(4), object(1)\n",
      "memory usage: 488.0+ bytes\n"
     ]
    }
   ],
   "source": [
    "# Mostrar información del dataframe hypotheses_us\n",
    "hypotheses_us.info()"
   ]
  },
  {
   "cell_type": "code",
   "execution_count": 5,
   "metadata": {},
   "outputs": [
    {
     "data": {
      "text/html": [
       "<div>\n",
       "<style scoped>\n",
       "    .dataframe tbody tr th:only-of-type {\n",
       "        vertical-align: middle;\n",
       "    }\n",
       "\n",
       "    .dataframe tbody tr th {\n",
       "        vertical-align: top;\n",
       "    }\n",
       "\n",
       "    .dataframe thead th {\n",
       "        text-align: right;\n",
       "    }\n",
       "</style>\n",
       "<table border=\"1\" class=\"dataframe\">\n",
       "  <thead>\n",
       "    <tr style=\"text-align: right;\">\n",
       "      <th></th>\n",
       "      <th>Hypothesis</th>\n",
       "      <th>Reach</th>\n",
       "      <th>Impact</th>\n",
       "      <th>Confidence</th>\n",
       "      <th>Effort</th>\n",
       "    </tr>\n",
       "  </thead>\n",
       "  <tbody>\n",
       "    <tr>\n",
       "      <th>0</th>\n",
       "      <td>Add two new channels for attracting traffic. T...</td>\n",
       "      <td>3</td>\n",
       "      <td>10</td>\n",
       "      <td>8</td>\n",
       "      <td>6</td>\n",
       "    </tr>\n",
       "    <tr>\n",
       "      <th>1</th>\n",
       "      <td>Launch your own delivery service. This will sh...</td>\n",
       "      <td>2</td>\n",
       "      <td>5</td>\n",
       "      <td>4</td>\n",
       "      <td>10</td>\n",
       "    </tr>\n",
       "    <tr>\n",
       "      <th>2</th>\n",
       "      <td>Add product recommendation blocks to the store...</td>\n",
       "      <td>8</td>\n",
       "      <td>3</td>\n",
       "      <td>7</td>\n",
       "      <td>3</td>\n",
       "    </tr>\n",
       "    <tr>\n",
       "      <th>3</th>\n",
       "      <td>Change the category structure. This will incre...</td>\n",
       "      <td>8</td>\n",
       "      <td>3</td>\n",
       "      <td>3</td>\n",
       "      <td>8</td>\n",
       "    </tr>\n",
       "    <tr>\n",
       "      <th>4</th>\n",
       "      <td>Change the background color on the main page. ...</td>\n",
       "      <td>3</td>\n",
       "      <td>1</td>\n",
       "      <td>1</td>\n",
       "      <td>1</td>\n",
       "    </tr>\n",
       "    <tr>\n",
       "      <th>5</th>\n",
       "      <td>Add a customer review page. This will increase...</td>\n",
       "      <td>3</td>\n",
       "      <td>2</td>\n",
       "      <td>2</td>\n",
       "      <td>3</td>\n",
       "    </tr>\n",
       "    <tr>\n",
       "      <th>6</th>\n",
       "      <td>Show banners with current offers and sales on ...</td>\n",
       "      <td>5</td>\n",
       "      <td>3</td>\n",
       "      <td>8</td>\n",
       "      <td>3</td>\n",
       "    </tr>\n",
       "    <tr>\n",
       "      <th>7</th>\n",
       "      <td>Add a subscription form to all the main pages....</td>\n",
       "      <td>10</td>\n",
       "      <td>7</td>\n",
       "      <td>8</td>\n",
       "      <td>5</td>\n",
       "    </tr>\n",
       "    <tr>\n",
       "      <th>8</th>\n",
       "      <td>Launch a promotion that gives users discounts ...</td>\n",
       "      <td>1</td>\n",
       "      <td>9</td>\n",
       "      <td>9</td>\n",
       "      <td>5</td>\n",
       "    </tr>\n",
       "  </tbody>\n",
       "</table>\n",
       "</div>"
      ],
      "text/plain": [
       "                                          Hypothesis  Reach  Impact  \\\n",
       "0  Add two new channels for attracting traffic. T...      3      10   \n",
       "1  Launch your own delivery service. This will sh...      2       5   \n",
       "2  Add product recommendation blocks to the store...      8       3   \n",
       "3  Change the category structure. This will incre...      8       3   \n",
       "4  Change the background color on the main page. ...      3       1   \n",
       "5  Add a customer review page. This will increase...      3       2   \n",
       "6  Show banners with current offers and sales on ...      5       3   \n",
       "7  Add a subscription form to all the main pages....     10       7   \n",
       "8  Launch a promotion that gives users discounts ...      1       9   \n",
       "\n",
       "   Confidence  Effort  \n",
       "0           8       6  \n",
       "1           4      10  \n",
       "2           7       3  \n",
       "3           3       8  \n",
       "4           1       1  \n",
       "5           2       3  \n",
       "6           8       3  \n",
       "7           8       5  \n",
       "8           9       5  "
      ]
     },
     "execution_count": 5,
     "metadata": {},
     "output_type": "execute_result"
    }
   ],
   "source": [
    "# Se usa la funcion downcast_dtypes para bajar los tipos de datos del dataframe hypotheses_us\n",
    "downcast_dtypes(hypotheses_us)"
   ]
  },
  {
   "cell_type": "code",
   "execution_count": 6,
   "metadata": {},
   "outputs": [],
   "source": [
    "# Se convierten todas las columnas a minusculas y se eliminan espacios de la columa hypothesis\n",
    "hypotheses_us.columns = hypotheses_us.columns.str.lower()\n",
    "hypotheses_us['hypothesis'] = hypotheses_us['hypothesis'].str.strip()\n"
   ]
  },
  {
   "cell_type": "code",
   "execution_count": 7,
   "metadata": {},
   "outputs": [
    {
     "data": {
      "text/html": [
       "<div>\n",
       "<style scoped>\n",
       "    .dataframe tbody tr th:only-of-type {\n",
       "        vertical-align: middle;\n",
       "    }\n",
       "\n",
       "    .dataframe tbody tr th {\n",
       "        vertical-align: top;\n",
       "    }\n",
       "\n",
       "    .dataframe thead th {\n",
       "        text-align: right;\n",
       "    }\n",
       "</style>\n",
       "<table border=\"1\" class=\"dataframe\">\n",
       "  <thead>\n",
       "    <tr style=\"text-align: right;\">\n",
       "      <th></th>\n",
       "      <th>hypothesis</th>\n",
       "      <th>reach</th>\n",
       "      <th>impact</th>\n",
       "      <th>confidence</th>\n",
       "      <th>effort</th>\n",
       "    </tr>\n",
       "  </thead>\n",
       "  <tbody>\n",
       "    <tr>\n",
       "      <th>0</th>\n",
       "      <td>Add two new channels for attracting traffic. T...</td>\n",
       "      <td>3</td>\n",
       "      <td>10</td>\n",
       "      <td>8</td>\n",
       "      <td>6</td>\n",
       "    </tr>\n",
       "    <tr>\n",
       "      <th>1</th>\n",
       "      <td>Launch your own delivery service. This will sh...</td>\n",
       "      <td>2</td>\n",
       "      <td>5</td>\n",
       "      <td>4</td>\n",
       "      <td>10</td>\n",
       "    </tr>\n",
       "    <tr>\n",
       "      <th>2</th>\n",
       "      <td>Add product recommendation blocks to the store...</td>\n",
       "      <td>8</td>\n",
       "      <td>3</td>\n",
       "      <td>7</td>\n",
       "      <td>3</td>\n",
       "    </tr>\n",
       "    <tr>\n",
       "      <th>3</th>\n",
       "      <td>Change the category structure. This will incre...</td>\n",
       "      <td>8</td>\n",
       "      <td>3</td>\n",
       "      <td>3</td>\n",
       "      <td>8</td>\n",
       "    </tr>\n",
       "    <tr>\n",
       "      <th>4</th>\n",
       "      <td>Change the background color on the main page. ...</td>\n",
       "      <td>3</td>\n",
       "      <td>1</td>\n",
       "      <td>1</td>\n",
       "      <td>1</td>\n",
       "    </tr>\n",
       "  </tbody>\n",
       "</table>\n",
       "</div>"
      ],
      "text/plain": [
       "                                          hypothesis  reach  impact  \\\n",
       "0  Add two new channels for attracting traffic. T...      3      10   \n",
       "1  Launch your own delivery service. This will sh...      2       5   \n",
       "2  Add product recommendation blocks to the store...      8       3   \n",
       "3  Change the category structure. This will incre...      8       3   \n",
       "4  Change the background color on the main page. ...      3       1   \n",
       "\n",
       "   confidence  effort  \n",
       "0           8       6  \n",
       "1           4      10  \n",
       "2           7       3  \n",
       "3           3       8  \n",
       "4           1       1  "
      ]
     },
     "execution_count": 7,
     "metadata": {},
     "output_type": "execute_result"
    }
   ],
   "source": [
    "# Impresión de muestra dataframe hypotheses_us \n",
    "hypotheses_us.head()"
   ]
  },
  {
   "cell_type": "code",
   "execution_count": 8,
   "metadata": {},
   "outputs": [
    {
     "name": "stdout",
     "output_type": "stream",
     "text": [
      "<class 'pandas.core.frame.DataFrame'>\n",
      "RangeIndex: 1197 entries, 0 to 1196\n",
      "Data columns (total 5 columns):\n",
      " #   Column         Non-Null Count  Dtype  \n",
      "---  ------         --------------  -----  \n",
      " 0   transactionId  1197 non-null   int64  \n",
      " 1   visitorId      1197 non-null   int64  \n",
      " 2   date           1197 non-null   object \n",
      " 3   revenue        1197 non-null   float64\n",
      " 4   group          1197 non-null   object \n",
      "dtypes: float64(1), int64(2), object(2)\n",
      "memory usage: 46.9+ KB\n"
     ]
    }
   ],
   "source": [
    "# Mostrar información del dataframe orders_us\n",
    "orders_us.info()"
   ]
  },
  {
   "cell_type": "code",
   "execution_count": 9,
   "metadata": {},
   "outputs": [
    {
     "data": {
      "text/html": [
       "<div>\n",
       "<style scoped>\n",
       "    .dataframe tbody tr th:only-of-type {\n",
       "        vertical-align: middle;\n",
       "    }\n",
       "\n",
       "    .dataframe tbody tr th {\n",
       "        vertical-align: top;\n",
       "    }\n",
       "\n",
       "    .dataframe thead th {\n",
       "        text-align: right;\n",
       "    }\n",
       "</style>\n",
       "<table border=\"1\" class=\"dataframe\">\n",
       "  <thead>\n",
       "    <tr style=\"text-align: right;\">\n",
       "      <th></th>\n",
       "      <th>transactionId</th>\n",
       "      <th>visitorId</th>\n",
       "      <th>date</th>\n",
       "      <th>revenue</th>\n",
       "      <th>group</th>\n",
       "    </tr>\n",
       "  </thead>\n",
       "  <tbody>\n",
       "    <tr>\n",
       "      <th>0</th>\n",
       "      <td>3667963787</td>\n",
       "      <td>3312258926</td>\n",
       "      <td>2019-08-15</td>\n",
       "      <td>30.400000</td>\n",
       "      <td>B</td>\n",
       "    </tr>\n",
       "    <tr>\n",
       "      <th>1</th>\n",
       "      <td>2804400009</td>\n",
       "      <td>3642806036</td>\n",
       "      <td>2019-08-15</td>\n",
       "      <td>15.200000</td>\n",
       "      <td>B</td>\n",
       "    </tr>\n",
       "    <tr>\n",
       "      <th>2</th>\n",
       "      <td>2961555356</td>\n",
       "      <td>4069496402</td>\n",
       "      <td>2019-08-15</td>\n",
       "      <td>10.200000</td>\n",
       "      <td>A</td>\n",
       "    </tr>\n",
       "    <tr>\n",
       "      <th>3</th>\n",
       "      <td>3797467345</td>\n",
       "      <td>1196621759</td>\n",
       "      <td>2019-08-15</td>\n",
       "      <td>155.100006</td>\n",
       "      <td>B</td>\n",
       "    </tr>\n",
       "    <tr>\n",
       "      <th>4</th>\n",
       "      <td>2282983706</td>\n",
       "      <td>2322279887</td>\n",
       "      <td>2019-08-15</td>\n",
       "      <td>40.500000</td>\n",
       "      <td>B</td>\n",
       "    </tr>\n",
       "    <tr>\n",
       "      <th>...</th>\n",
       "      <td>...</td>\n",
       "      <td>...</td>\n",
       "      <td>...</td>\n",
       "      <td>...</td>\n",
       "      <td>...</td>\n",
       "    </tr>\n",
       "    <tr>\n",
       "      <th>1192</th>\n",
       "      <td>2662137336</td>\n",
       "      <td>3733762160</td>\n",
       "      <td>2019-08-14</td>\n",
       "      <td>100.800003</td>\n",
       "      <td>B</td>\n",
       "    </tr>\n",
       "    <tr>\n",
       "      <th>1193</th>\n",
       "      <td>2203539145</td>\n",
       "      <td>370388673</td>\n",
       "      <td>2019-08-14</td>\n",
       "      <td>50.099998</td>\n",
       "      <td>A</td>\n",
       "    </tr>\n",
       "    <tr>\n",
       "      <th>1194</th>\n",
       "      <td>1807773912</td>\n",
       "      <td>573423106</td>\n",
       "      <td>2019-08-14</td>\n",
       "      <td>165.300003</td>\n",
       "      <td>A</td>\n",
       "    </tr>\n",
       "    <tr>\n",
       "      <th>1195</th>\n",
       "      <td>1947021204</td>\n",
       "      <td>1614305549</td>\n",
       "      <td>2019-08-14</td>\n",
       "      <td>5.500000</td>\n",
       "      <td>A</td>\n",
       "    </tr>\n",
       "    <tr>\n",
       "      <th>1196</th>\n",
       "      <td>3936777065</td>\n",
       "      <td>2108080724</td>\n",
       "      <td>2019-08-15</td>\n",
       "      <td>3120.100098</td>\n",
       "      <td>B</td>\n",
       "    </tr>\n",
       "  </tbody>\n",
       "</table>\n",
       "<p>1197 rows × 5 columns</p>\n",
       "</div>"
      ],
      "text/plain": [
       "      transactionId   visitorId        date      revenue group\n",
       "0        3667963787  3312258926  2019-08-15    30.400000     B\n",
       "1        2804400009  3642806036  2019-08-15    15.200000     B\n",
       "2        2961555356  4069496402  2019-08-15    10.200000     A\n",
       "3        3797467345  1196621759  2019-08-15   155.100006     B\n",
       "4        2282983706  2322279887  2019-08-15    40.500000     B\n",
       "...             ...         ...         ...          ...   ...\n",
       "1192     2662137336  3733762160  2019-08-14   100.800003     B\n",
       "1193     2203539145   370388673  2019-08-14    50.099998     A\n",
       "1194     1807773912   573423106  2019-08-14   165.300003     A\n",
       "1195     1947021204  1614305549  2019-08-14     5.500000     A\n",
       "1196     3936777065  2108080724  2019-08-15  3120.100098     B\n",
       "\n",
       "[1197 rows x 5 columns]"
      ]
     },
     "execution_count": 9,
     "metadata": {},
     "output_type": "execute_result"
    }
   ],
   "source": [
    "# Se usa la funcion downcast_dtypes para bajar los tipos de datos del dataframe orders_us\n",
    "downcast_dtypes(orders_us)"
   ]
  },
  {
   "cell_type": "code",
   "execution_count": 10,
   "metadata": {},
   "outputs": [],
   "source": [
    "# Se convierten todas las columnas a minusculas\n",
    "orders_us.columns = orders_us.columns.str.lower()\n",
    "\n",
    "# Se renombran algunas de las columnas \n",
    "columns_new = {'transactionid':'transaction_id', 'visitorid': 'visitor_id'}\n",
    "orders_us = orders_us.rename(columns= columns_new)\n",
    "\n",
    "# Se convierte a tipo fecha la columna date\n",
    "orders_us['date'] = pd.to_datetime(orders_us['date'], format=\"%Y-%m-%d\")"
   ]
  },
  {
   "cell_type": "code",
   "execution_count": 11,
   "metadata": {},
   "outputs": [
    {
     "data": {
      "text/html": [
       "<div>\n",
       "<style scoped>\n",
       "    .dataframe tbody tr th:only-of-type {\n",
       "        vertical-align: middle;\n",
       "    }\n",
       "\n",
       "    .dataframe tbody tr th {\n",
       "        vertical-align: top;\n",
       "    }\n",
       "\n",
       "    .dataframe thead th {\n",
       "        text-align: right;\n",
       "    }\n",
       "</style>\n",
       "<table border=\"1\" class=\"dataframe\">\n",
       "  <thead>\n",
       "    <tr style=\"text-align: right;\">\n",
       "      <th></th>\n",
       "      <th>transaction_id</th>\n",
       "      <th>visitor_id</th>\n",
       "      <th>date</th>\n",
       "      <th>revenue</th>\n",
       "      <th>group</th>\n",
       "    </tr>\n",
       "  </thead>\n",
       "  <tbody>\n",
       "    <tr>\n",
       "      <th>0</th>\n",
       "      <td>3667963787</td>\n",
       "      <td>3312258926</td>\n",
       "      <td>2019-08-15</td>\n",
       "      <td>30.400000</td>\n",
       "      <td>B</td>\n",
       "    </tr>\n",
       "    <tr>\n",
       "      <th>1</th>\n",
       "      <td>2804400009</td>\n",
       "      <td>3642806036</td>\n",
       "      <td>2019-08-15</td>\n",
       "      <td>15.200000</td>\n",
       "      <td>B</td>\n",
       "    </tr>\n",
       "    <tr>\n",
       "      <th>2</th>\n",
       "      <td>2961555356</td>\n",
       "      <td>4069496402</td>\n",
       "      <td>2019-08-15</td>\n",
       "      <td>10.200000</td>\n",
       "      <td>A</td>\n",
       "    </tr>\n",
       "    <tr>\n",
       "      <th>3</th>\n",
       "      <td>3797467345</td>\n",
       "      <td>1196621759</td>\n",
       "      <td>2019-08-15</td>\n",
       "      <td>155.100006</td>\n",
       "      <td>B</td>\n",
       "    </tr>\n",
       "    <tr>\n",
       "      <th>4</th>\n",
       "      <td>2282983706</td>\n",
       "      <td>2322279887</td>\n",
       "      <td>2019-08-15</td>\n",
       "      <td>40.500000</td>\n",
       "      <td>B</td>\n",
       "    </tr>\n",
       "  </tbody>\n",
       "</table>\n",
       "</div>"
      ],
      "text/plain": [
       "   transaction_id  visitor_id       date     revenue group\n",
       "0      3667963787  3312258926 2019-08-15   30.400000     B\n",
       "1      2804400009  3642806036 2019-08-15   15.200000     B\n",
       "2      2961555356  4069496402 2019-08-15   10.200000     A\n",
       "3      3797467345  1196621759 2019-08-15  155.100006     B\n",
       "4      2282983706  2322279887 2019-08-15   40.500000     B"
      ]
     },
     "execution_count": 11,
     "metadata": {},
     "output_type": "execute_result"
    }
   ],
   "source": [
    "# Impresión de muestra dataframe orders_us \n",
    "orders_us.head()"
   ]
  },
  {
   "cell_type": "code",
   "execution_count": 12,
   "metadata": {},
   "outputs": [
    {
     "name": "stdout",
     "output_type": "stream",
     "text": [
      "<class 'pandas.core.frame.DataFrame'>\n",
      "RangeIndex: 62 entries, 0 to 61\n",
      "Data columns (total 3 columns):\n",
      " #   Column  Non-Null Count  Dtype \n",
      "---  ------  --------------  ----- \n",
      " 0   date    62 non-null     object\n",
      " 1   group   62 non-null     object\n",
      " 2   visits  62 non-null     int64 \n",
      "dtypes: int64(1), object(2)\n",
      "memory usage: 1.6+ KB\n"
     ]
    }
   ],
   "source": [
    "# Mostrar información del dataframe visits_us\n",
    "visits_us.info()"
   ]
  },
  {
   "cell_type": "code",
   "execution_count": 13,
   "metadata": {},
   "outputs": [
    {
     "data": {
      "text/html": [
       "<div>\n",
       "<style scoped>\n",
       "    .dataframe tbody tr th:only-of-type {\n",
       "        vertical-align: middle;\n",
       "    }\n",
       "\n",
       "    .dataframe tbody tr th {\n",
       "        vertical-align: top;\n",
       "    }\n",
       "\n",
       "    .dataframe thead th {\n",
       "        text-align: right;\n",
       "    }\n",
       "</style>\n",
       "<table border=\"1\" class=\"dataframe\">\n",
       "  <thead>\n",
       "    <tr style=\"text-align: right;\">\n",
       "      <th></th>\n",
       "      <th>date</th>\n",
       "      <th>group</th>\n",
       "      <th>visits</th>\n",
       "    </tr>\n",
       "  </thead>\n",
       "  <tbody>\n",
       "    <tr>\n",
       "      <th>0</th>\n",
       "      <td>2019-08-01</td>\n",
       "      <td>A</td>\n",
       "      <td>719</td>\n",
       "    </tr>\n",
       "    <tr>\n",
       "      <th>1</th>\n",
       "      <td>2019-08-02</td>\n",
       "      <td>A</td>\n",
       "      <td>619</td>\n",
       "    </tr>\n",
       "    <tr>\n",
       "      <th>2</th>\n",
       "      <td>2019-08-03</td>\n",
       "      <td>A</td>\n",
       "      <td>507</td>\n",
       "    </tr>\n",
       "    <tr>\n",
       "      <th>3</th>\n",
       "      <td>2019-08-04</td>\n",
       "      <td>A</td>\n",
       "      <td>717</td>\n",
       "    </tr>\n",
       "    <tr>\n",
       "      <th>4</th>\n",
       "      <td>2019-08-05</td>\n",
       "      <td>A</td>\n",
       "      <td>756</td>\n",
       "    </tr>\n",
       "    <tr>\n",
       "      <th>...</th>\n",
       "      <td>...</td>\n",
       "      <td>...</td>\n",
       "      <td>...</td>\n",
       "    </tr>\n",
       "    <tr>\n",
       "      <th>57</th>\n",
       "      <td>2019-08-27</td>\n",
       "      <td>B</td>\n",
       "      <td>720</td>\n",
       "    </tr>\n",
       "    <tr>\n",
       "      <th>58</th>\n",
       "      <td>2019-08-28</td>\n",
       "      <td>B</td>\n",
       "      <td>654</td>\n",
       "    </tr>\n",
       "    <tr>\n",
       "      <th>59</th>\n",
       "      <td>2019-08-29</td>\n",
       "      <td>B</td>\n",
       "      <td>531</td>\n",
       "    </tr>\n",
       "    <tr>\n",
       "      <th>60</th>\n",
       "      <td>2019-08-30</td>\n",
       "      <td>B</td>\n",
       "      <td>490</td>\n",
       "    </tr>\n",
       "    <tr>\n",
       "      <th>61</th>\n",
       "      <td>2019-08-31</td>\n",
       "      <td>B</td>\n",
       "      <td>718</td>\n",
       "    </tr>\n",
       "  </tbody>\n",
       "</table>\n",
       "<p>62 rows × 3 columns</p>\n",
       "</div>"
      ],
      "text/plain": [
       "          date group  visits\n",
       "0   2019-08-01     A     719\n",
       "1   2019-08-02     A     619\n",
       "2   2019-08-03     A     507\n",
       "3   2019-08-04     A     717\n",
       "4   2019-08-05     A     756\n",
       "..         ...   ...     ...\n",
       "57  2019-08-27     B     720\n",
       "58  2019-08-28     B     654\n",
       "59  2019-08-29     B     531\n",
       "60  2019-08-30     B     490\n",
       "61  2019-08-31     B     718\n",
       "\n",
       "[62 rows x 3 columns]"
      ]
     },
     "execution_count": 13,
     "metadata": {},
     "output_type": "execute_result"
    }
   ],
   "source": [
    "# Se usa la funcion downcast_dtypes para bajar los tipos de datos del dataframe visits_us\n",
    "downcast_dtypes(visits_us)"
   ]
  },
  {
   "cell_type": "code",
   "execution_count": 14,
   "metadata": {},
   "outputs": [],
   "source": [
    "# Se convierte a tipo fecha la columna date\n",
    "visits_us['date'] = pd.to_datetime(visits_us['date'], format=\"%Y-%m-%d\")"
   ]
  },
  {
   "cell_type": "code",
   "execution_count": 15,
   "metadata": {},
   "outputs": [
    {
     "data": {
      "text/html": [
       "<div>\n",
       "<style scoped>\n",
       "    .dataframe tbody tr th:only-of-type {\n",
       "        vertical-align: middle;\n",
       "    }\n",
       "\n",
       "    .dataframe tbody tr th {\n",
       "        vertical-align: top;\n",
       "    }\n",
       "\n",
       "    .dataframe thead th {\n",
       "        text-align: right;\n",
       "    }\n",
       "</style>\n",
       "<table border=\"1\" class=\"dataframe\">\n",
       "  <thead>\n",
       "    <tr style=\"text-align: right;\">\n",
       "      <th></th>\n",
       "      <th>date</th>\n",
       "      <th>group</th>\n",
       "      <th>visits</th>\n",
       "    </tr>\n",
       "  </thead>\n",
       "  <tbody>\n",
       "    <tr>\n",
       "      <th>0</th>\n",
       "      <td>2019-08-01</td>\n",
       "      <td>A</td>\n",
       "      <td>719</td>\n",
       "    </tr>\n",
       "    <tr>\n",
       "      <th>1</th>\n",
       "      <td>2019-08-02</td>\n",
       "      <td>A</td>\n",
       "      <td>619</td>\n",
       "    </tr>\n",
       "    <tr>\n",
       "      <th>2</th>\n",
       "      <td>2019-08-03</td>\n",
       "      <td>A</td>\n",
       "      <td>507</td>\n",
       "    </tr>\n",
       "    <tr>\n",
       "      <th>3</th>\n",
       "      <td>2019-08-04</td>\n",
       "      <td>A</td>\n",
       "      <td>717</td>\n",
       "    </tr>\n",
       "    <tr>\n",
       "      <th>4</th>\n",
       "      <td>2019-08-05</td>\n",
       "      <td>A</td>\n",
       "      <td>756</td>\n",
       "    </tr>\n",
       "  </tbody>\n",
       "</table>\n",
       "</div>"
      ],
      "text/plain": [
       "        date group  visits\n",
       "0 2019-08-01     A     719\n",
       "1 2019-08-02     A     619\n",
       "2 2019-08-03     A     507\n",
       "3 2019-08-04     A     717\n",
       "4 2019-08-05     A     756"
      ]
     },
     "execution_count": 15,
     "metadata": {},
     "output_type": "execute_result"
    }
   ],
   "source": [
    "visits_us.head()"
   ]
  },
  {
   "cell_type": "code",
   "execution_count": 16,
   "metadata": {},
   "outputs": [
    {
     "name": "stdout",
     "output_type": "stream",
     "text": [
      "Duplicados totales para hypotheses_us:  0\n",
      "Duplicados totales para orders_us:  0\n",
      "Duplicados totales para visits_us:  0\n"
     ]
    }
   ],
   "source": [
    "# Se revisa si existe algún valor duplicado\n",
    "print('Duplicados totales para hypotheses_us: ', hypotheses_us.duplicated().sum())\n",
    "print('Duplicados totales para orders_us: ', orders_us.duplicated().sum())\n",
    "print('Duplicados totales para visits_us: ', visits_us.duplicated().sum())"
   ]
  },
  {
   "cell_type": "code",
   "execution_count": 17,
   "metadata": {},
   "outputs": [
    {
     "name": "stdout",
     "output_type": "stream",
     "text": [
      "Duplicados totales para hypotheses_us:  0\n",
      "Duplicados totales para orders_us:  0\n",
      "Duplicados totales para visits_us:  0\n"
     ]
    }
   ],
   "source": [
    "# Se revisa si existe algún valor nulo\n",
    "print('Duplicados totales para hypotheses_us: ', hypotheses_us.isna().sum().sum())\n",
    "print('Duplicados totales para orders_us: ', orders_us.isna().sum().sum())\n",
    "print('Duplicados totales para visits_us: ', visits_us.isna().sum().sum())"
   ]
  },
  {
   "cell_type": "markdown",
   "metadata": {},
   "source": [
    "<div class=\"alert alert-block alert-success\">\n",
    "<b>Comentario del revisor (1ra Iteracion)</b> <a class=“tocSkip”></a>\n",
    "\n",
    "Buen trabajo con la revisión inicial de tus datos y la transformación de los mismos, siempre es importante entender con lo que trabajarás!\n",
    "</div>"
   ]
  },
  {
   "cell_type": "markdown",
   "metadata": {},
   "source": [
    "## 2. Priorizar hipótesis"
   ]
  },
  {
   "cell_type": "markdown",
   "metadata": {},
   "source": [
    "### 2.1 Aplicar el framework ICE para priorizar hipótesis. Ordenarlas en orden descendente de prioridad."
   ]
  },
  {
   "cell_type": "code",
   "execution_count": 18,
   "metadata": {},
   "outputs": [
    {
     "name": "stdout",
     "output_type": "stream",
     "text": [
      "                                          hypothesis        ICE\n",
      "8  Launch a promotion that gives users discounts ...  16.200000\n",
      "0  Add two new channels for attracting traffic. T...  13.333333\n",
      "7  Add a subscription form to all the main pages....  11.200000\n",
      "6  Show banners with current offers and sales on ...   8.000000\n",
      "2  Add product recommendation blocks to the store...   7.000000\n",
      "1  Launch your own delivery service. This will sh...   2.000000\n",
      "5  Add a customer review page. This will increase...   1.333333\n",
      "3  Change the category structure. This will incre...   1.125000\n",
      "4  Change the background color on the main page. ...   1.000000\n"
     ]
    }
   ],
   "source": [
    "# Se hace el calculo del framework ICE y se ordena de forma descendente\n",
    "hypotheses_us['ICE'] = (hypotheses_us['impact'] * hypotheses_us['confidence']) / hypotheses_us['effort']\n",
    "print(hypotheses_us[['hypothesis', 'ICE']].sort_values('ICE', ascending=False))"
   ]
  },
  {
   "cell_type": "markdown",
   "metadata": {},
   "source": [
    "### 2.2 Aplicar el framework RICE para priorizar hipótesis. Ordenarlas en orden descendente de prioridad."
   ]
  },
  {
   "cell_type": "code",
   "execution_count": 19,
   "metadata": {},
   "outputs": [
    {
     "name": "stdout",
     "output_type": "stream",
     "text": [
      "                                          hypothesis       RICE\n",
      "6  Show banners with current offers and sales on ...  40.000000\n",
      "8  Launch a promotion that gives users discounts ...  16.200000\n",
      "7  Add a subscription form to all the main pages....   9.600000\n",
      "3  Change the category structure. This will incre...   9.000000\n",
      "1  Launch your own delivery service. This will sh...   4.000000\n",
      "5  Add a customer review page. This will increase...   4.000000\n",
      "4  Change the background color on the main page. ...   3.000000\n",
      "0  Add two new channels for attracting traffic. T...  -2.666667\n",
      "2  Add product recommendation blocks to the store... -29.333333\n"
     ]
    }
   ],
   "source": [
    "hypotheses_us['RICE'] = (hypotheses_us['reach'] * hypotheses_us['impact'] * hypotheses_us['confidence']) / hypotheses_us['effort']\n",
    "print(hypotheses_us[['hypothesis', 'RICE']].sort_values('RICE', ascending=False))"
   ]
  },
  {
   "cell_type": "markdown",
   "metadata": {},
   "source": [
    "### 2.3 Mostrar cómo cambia la priorización de hipótesis cuando utilizas RICE en lugar de ICE. Proporcionar una explicación de los cambios."
   ]
  },
  {
   "cell_type": "code",
   "execution_count": 20,
   "metadata": {},
   "outputs": [
    {
     "data": {
      "text/plain": [
       "<matplotlib.lines.Line2D at 0x7fdc541cf460>"
      ]
     },
     "execution_count": 20,
     "metadata": {},
     "output_type": "execute_result"
    },
    {
     "data": {
      "image/png": "[encoded data removed]",
      "text/plain": [
       "<Figure size 640x480 with 1 Axes>"
      ]
     },
     "metadata": {},
     "output_type": "display_data"
    }
   ],
   "source": [
    "# Se crea un grafico de linea para cada columna de ICE y RICE\n",
    "hypotheses_us['ICE'].plot(kind='line')\n",
    "hypotheses_us['RICE'].plot(kind='line')\n",
    "plt.legend()\n",
    "\n",
    "# agregar el eje X\n",
    "plt.axhline(y=0, color='black', linestyle='--')"
   ]
  },
  {
   "cell_type": "markdown",
   "metadata": {},
   "source": [
    "<div class=\"alert alert-block alert-success\">\n",
    "<b>Comentario del revisor (1ra Iteracion)</b> <a class=“tocSkip”></a>\n",
    "\n",
    "Muy buen trabajo con el cálculo para la priorización con los diferentes frameworks! El presentar en gráfica este tipo de comparaciones es muy bueno para que sea mucho más entendible la comparación\n",
    "</div>"
   ]
  },
  {
   "cell_type": "markdown",
   "metadata": {},
   "source": [
    "## 3. Análisis de test A/B"
   ]
  },
  {
   "cell_type": "markdown",
   "metadata": {},
   "source": [
    "### 3.1 Representa gráficamente el ingreso acumulado por grupo. Haz conclusiones y conjeturas."
   ]
  },
  {
   "cell_type": "code",
   "execution_count": 21,
   "metadata": {},
   "outputs": [
    {
     "data": {
      "text/plain": [
       "<matplotlib.legend.Legend at 0x7fdc520875b0>"
      ]
     },
     "execution_count": 21,
     "metadata": {},
     "output_type": "execute_result"
    },
    {
     "data": {
      "image/png": "[encoded data removed]",
      "text/plain": [
       "<Figure size 640x480 with 1 Axes>"
      ]
     },
     "metadata": {},
     "output_type": "display_data"
    }
   ],
   "source": [
    "# Se crea una matriz con los valores unicos de parejas de fechas y grupos, se borran los duplicados\n",
    "dates_groups = orders_us[['date', 'group']].drop_duplicates()\n",
    "\n",
    "# Se calculan los resultados diarios acumulados agregados de los pedidos\n",
    "orders_aggregated = dates_groups.apply(lambda x:orders_us[np.logical_and(orders_us['date'] <= x['date'], orders_us['group'] == x['group'])]\n",
    "                                       .agg({\n",
    "                                           'date': 'max',\n",
    "                                           'group': 'max',\n",
    "                                           'transaction_id': pd.Series.nunique,\n",
    "                                           'visitor_id': pd.Series.nunique,\n",
    "                                           'revenue': 'sum'\n",
    "                                       }), axis=1, ).sort_values(by=['date', 'group'])\n",
    "\n",
    "# Se calculan los resultados diarios acumulados agregados de las visitas\n",
    "visits_aggregated = dates_groups.apply(lambda x:visits_us[np.logical_and(visits_us['date'] <= x['date'], visits_us['group'] == x['group'])]\n",
    "                                       .agg({\n",
    "                                           'date': 'max',\n",
    "                                           'group': 'max',\n",
    "                                           'visits': 'sum'\n",
    "                                       }), axis=1, ).sort_values(by=['date', 'group'])\n",
    "\n",
    "# Se fusionan las tablas creadas de ordenes y vistantes\n",
    "cum_data = orders_aggregated.merge(visits_aggregated, left_on=['date', 'group'], right_on=['date', 'group'])\n",
    "cum_data.columns = ['date', 'group', 'orders', 'buyers', 'revenue', 'visitors']\n",
    "\n",
    "# Dataframes con los ingresos acumulados de cada uno de los grupos\n",
    "cum_rev_a= cum_data[cum_data['group'] == 'A'][['date', 'revenue', 'orders']]\n",
    "cum_rev_b= cum_data[cum_data['group'] == 'B'][['date', 'revenue', 'orders']]\n",
    "\n",
    "# Graficos con los ingresos de cada uno de los grupos\n",
    "plt.plot(cum_rev_a['date'], cum_rev_a['revenue'], label='A')\n",
    "plt.plot(cum_rev_b['date'], cum_rev_b['revenue'], label='B')\n",
    "\n",
    "plt.legend()"
   ]
  },
  {
   "cell_type": "markdown",
   "metadata": {},
   "source": [
    "En esta graficos de puede observar que los ingresos aumentan constante mente duarente toda la prueba. Si embargo es notable que el grupo B tuvo un pico alto en los ingresos lo cual podria indicar un aumneto en el numero de los pedidos o quiza pedidos caros en la muestra."
   ]
  },
  {
   "cell_type": "markdown",
   "metadata": {},
   "source": [
    "### 3.2 Representa gráficamente el tamaño de pedido promedio acumulado por grupo. Haz conclusiones y conjeturas."
   ]
  },
  {
   "cell_type": "code",
   "execution_count": 22,
   "metadata": {},
   "outputs": [
    {
     "data": {
      "text/plain": [
       "<matplotlib.legend.Legend at 0x7fdc52041a60>"
      ]
     },
     "execution_count": 22,
     "metadata": {},
     "output_type": "execute_result"
    },
    {
     "data": {
      "image/png": "[encoded data removed]",
      "text/plain": [
       "<Figure size 640x480 with 1 Axes>"
      ]
     },
     "metadata": {},
     "output_type": "display_data"
    }
   ],
   "source": [
    "plt.plot(cum_rev_a['date'], cum_rev_a['revenue'] / cum_rev_a['orders'], label='A')\n",
    "plt.plot(cum_rev_b['date'], cum_rev_b['revenue'] / cum_rev_b['orders'], label='B')\n",
    "plt.legend()"
   ]
  },
  {
   "cell_type": "markdown",
   "metadata": {},
   "source": [
    "El tamaño de la compra promedio se muestra variado en ambas pruebas, se observa que el grupo A va aumentando gradualmente con algunos picos y al final de la prueba se muestra más estable. Por otro lado en el grupo B aunque al principio va aumentando gradualmente tiene un pico alto poco después de la mitad del tiempo de la prueba."
   ]
  },
  {
   "cell_type": "markdown",
   "metadata": {},
   "source": [
    "<div class=\"alert alert-block alert-success\">\n",
    "<b>Comentario del revisor (1ra Iteracion)</b> <a class=“tocSkip”></a>\n",
    "\n",
    "Buen trabajo, la visualización deja ver la diferencia claramente\n",
    "</div>"
   ]
  },
  {
   "cell_type": "markdown",
   "metadata": {},
   "source": [
    "### 3.3 Representa gráficamente la diferencia relativa en el tamaño de pedido promedio acumulado para el grupo B en comparación con el grupo A. Haz conclusiones y conjeturas."
   ]
  },
  {
   "cell_type": "code",
   "execution_count": 23,
   "metadata": {},
   "outputs": [
    {
     "data": {
      "text/plain": [
       "<matplotlib.lines.Line2D at 0x7fdc52090af0>"
      ]
     },
     "execution_count": 23,
     "metadata": {},
     "output_type": "execute_result"
    },
    {
     "data": {
      "image/png": "[encoded data removed]",
      "text/plain": [
       "<Figure size 640x480 with 1 Axes>"
      ]
     },
     "metadata": {},
     "output_type": "display_data"
    }
   ],
   "source": [
    "# Se hace un merge para reinuir los datos necesarios\n",
    "merge_cum_rev = cum_rev_a.merge(cum_rev_b, left_on='date', right_on='date', how='left', suffixes=['A', 'B'])\n",
    "\n",
    "# Se crea una grafica de la diferencia relativa\n",
    "plt.plot(merge_cum_rev['date'], (merge_cum_rev['revenueB']/merge_cum_rev['ordersB']) / (merge_cum_rev['revenueA']/merge_cum_rev['ordersA']) - 1)\n",
    "\n",
    "# agregar el eje X\n",
    "plt.axhline(y=0, color='black', linestyle='--')"
   ]
  },
  {
   "cell_type": "markdown",
   "metadata": {},
   "source": [
    "En algunos puntos se puede observar como al principio de la prueba todo aumenta, a la mitad hay un pico bajo y en la segunda mitad de la prueba se puede observar un pico bastante alto, los cual indica que hay pedidos grandes y valores atípicos."
   ]
  },
  {
   "cell_type": "markdown",
   "metadata": {},
   "source": [
    "### 3.4 Calcula la tasa de conversión de cada grupo como la relación entre los pedidos y el número de visitas de cada día. Representa gráficamente las tasas de conversión diarias de los dos grupos y describe la diferencia. Saca conclusiones y haz conjeturas."
   ]
  },
  {
   "cell_type": "code",
   "execution_count": 24,
   "metadata": {},
   "outputs": [
    {
     "data": {
      "text/plain": [
       "<matplotlib.legend.Legend at 0x7fdc51f9f310>"
      ]
     },
     "execution_count": 24,
     "metadata": {},
     "output_type": "execute_result"
    },
    {
     "data": {
      "image/png": "[encoded data removed]",
      "text/plain": [
       "<Figure size 640x480 with 1 Axes>"
      ]
     },
     "metadata": {},
     "output_type": "display_data"
    }
   ],
   "source": [
    "# Se crea una columna para calcular la conversion acumulada.\n",
    "cum_data['conversion'] = cum_data['orders'] / cum_data['visitors']\n",
    "\n",
    "# Se seleccionan datos del grupo A\n",
    "cum_dataA = cum_data[cum_data['group'] == 'A']\n",
    "\n",
    "# Se seleccionan datos del grupo B\n",
    "cum_dataB = cum_data[cum_data['group'] == 'B']\n",
    "\n",
    "# Se crean los gráficos\n",
    "plt.plot(cum_dataA['date'], cum_dataA['conversion'], label='A')\n",
    "plt.plot(cum_dataB['date'], cum_dataB['conversion'], label='B')\n",
    "plt.legend()"
   ]
  },
  {
   "cell_type": "markdown",
   "metadata": {},
   "source": [
    "En este gráfico se puede observar que los datos no son simétricos, solo hubo fluctuaciones alrededor del mismo valor al principio, este caso se puede observar que la tasa del grupo B fue la que aumentó antes de estabilizarse y por otra lado la del grupo B disminuyó."
   ]
  },
  {
   "cell_type": "markdown",
   "metadata": {},
   "source": [
    "### 3.5 Traza un gráfico de dispersión del número de pedidos por usuario. Haz conclusiones y conjeturas."
   ]
  },
  {
   "cell_type": "code",
   "execution_count": 25,
   "metadata": {},
   "outputs": [
    {
     "data": {
      "text/plain": [
       "<matplotlib.collections.PathCollection at 0x7fdc51f27520>"
      ]
     },
     "execution_count": 25,
     "metadata": {},
     "output_type": "execute_result"
    },
    {
     "data": {
      "image/png": "[encoded data removed]",
      "text/plain": [
       "<Figure size 640x480 with 1 Axes>"
      ]
     },
     "metadata": {},
     "output_type": "display_data"
    }
   ],
   "source": [
    "# Se agrupan los datos para obtener el numero de pedidos por usuario, obteniendo los pedidos unicos\n",
    "orders_users = (\n",
    "    orders_us.drop(['group', 'revenue', 'date'], axis=1)\n",
    "    .groupby('visitor_id', as_index=False)\n",
    "    .agg({'transaction_id': pd.Series.nunique})\n",
    ")\n",
    "\n",
    "# Se extraen solos las columans que se van a usar\n",
    "orders_users.columns = ['userId', 'orders']\n",
    "\n",
    "# Se obtienen los valores de x que son el rango de números desde 0 hasta el número de observaciones en orders_users\n",
    "x_values = pd.Series(range(0,len(orders_users)))\n",
    "\n",
    "# Se traza el grafico de dispersion\n",
    "plt.scatter(x_values, orders_users['orders'], alpha=0.5)"
   ]
  },
  {
   "cell_type": "markdown",
   "metadata": {},
   "source": [
    "En este grafico se puede observar que la mayoria de los usuarios han hecho uno o dos pedidos, tambien se observan algunos valores atipocos donde se han realizado mas de 10 pedidos.  "
   ]
  },
  {
   "cell_type": "markdown",
   "metadata": {},
   "source": [
    "<div class=\"alert alert-block alert-success\">\n",
    "<b>Comentario del revisor (1ra Iteracion)</b> <a class=“tocSkip”></a>\n",
    "\n",
    "Excelente trabajo con las visualizaciones y conclusiones desde las mismas, se pueden ver de manera correcta las diferencias entre grupos\n",
    "</div>"
   ]
  },
  {
   "cell_type": "markdown",
   "metadata": {},
   "source": [
    "### 3.6 Calcula los percentiles 95 y 99 para el número de pedidos por usuario. Define el punto en el cual un punto de datos se convierte en una anomalía."
   ]
  },
  {
   "cell_type": "code",
   "execution_count": 26,
   "metadata": {},
   "outputs": [
    {
     "name": "stdout",
     "output_type": "stream",
     "text": [
      "[1. 2. 4.]\n"
     ]
    }
   ],
   "source": [
    "# Calculo de los percentiles para el numero de pedidos por usuario \n",
    "print(np.percentile (orders_users['orders'], [90, 95, 99]))"
   ]
  },
  {
   "cell_type": "markdown",
   "metadata": {},
   "source": [
    "Estos calculos dicen que no mas del 5% de los usuarios realizaron mas de 2 pedidos y no mas de 1% realizo 4 pedidos."
   ]
  },
  {
   "cell_type": "markdown",
   "metadata": {},
   "source": [
    "### 3.7 Traza un gráfico de dispersión de los precios de los pedidos. Haz conclusiones y conjeturas."
   ]
  },
  {
   "cell_type": "code",
   "execution_count": 27,
   "metadata": {},
   "outputs": [
    {
     "data": {
      "text/plain": [
       "<matplotlib.collections.PathCollection at 0x7fdc51e876a0>"
      ]
     },
     "execution_count": 27,
     "metadata": {},
     "output_type": "execute_result"
    },
    {
     "data": {
      "image/png": "[encoded data removed]",
      "text/plain": [
       "<Figure size 640x480 with 1 Axes>"
      ]
     },
     "metadata": {},
     "output_type": "display_data"
    }
   ],
   "source": [
    "# Se obtienen los valores de x que son el rango de números desde 0 hasta el número de observaciones en orders_users\n",
    "x_values = pd.Series(range(0, len(orders_us['revenue'])))\n",
    "\n",
    "# Se traza el grafico de dispersion\n",
    "plt.scatter(x_values, orders_us['revenue'], alpha=0.5)"
   ]
  },
  {
   "cell_type": "markdown",
   "metadata": {},
   "source": [
    "En este grafico se puede observar que existen un par de pedidos grandes. El limite se puede establecer entre 2500 y 5000. Los valores mas extremos se pueden eliminar."
   ]
  },
  {
   "cell_type": "markdown",
   "metadata": {},
   "source": [
    "### 3.8 Calcula los percentiles 95 y 99 de los precios de los pedidos. Define el punto en el cual un punto de datos se convierte en una anomalía."
   ]
  },
  {
   "cell_type": "code",
   "execution_count": 28,
   "metadata": {},
   "outputs": [
    {
     "name": "stdout",
     "output_type": "stream",
     "text": [
      "[282.47999268 435.54000244 900.90401123]\n"
     ]
    }
   ],
   "source": [
    "# Calculo de los percentiles para los precios de los pedidos \n",
    "print(np.percentile (orders_us['revenue'], [90, 95, 99]))"
   ]
  },
  {
   "cell_type": "markdown",
   "metadata": {},
   "source": [
    "Estos calulos dicen que no mas del 5% de los pedidos cuestan 435.54 y no mas del 1% cuestan  900.90"
   ]
  },
  {
   "cell_type": "markdown",
   "metadata": {},
   "source": [
    "<div class=\"alert alert-block alert-success\">\n",
    "<b>Comentario general (1ra Iteracion)</b> <a class=“tocSkip”></a>\n",
    "\n",
    "Buen trabajo revisando los percentiles, encontrar valores anómalos puede ser crucial al momento de mostrar métricas correctas ya que estos pueden afectar los resultados finales\n",
    "</div>"
   ]
  },
  {
   "cell_type": "markdown",
   "metadata": {},
   "source": [
    "### 3.9 Encuentra la significancia estadística de la diferencia en la conversión entre los grupos utilizando los datos en bruto. Haz conclusiones y conjeturas."
   ]
  },
  {
   "cell_type": "code",
   "execution_count": 29,
   "metadata": {},
   "outputs": [
    {
     "name": "stdout",
     "output_type": "stream",
     "text": [
      "0.017\n",
      "0.138\n"
     ]
    }
   ],
   "source": [
    "# Se agrupan los datos para almacenaer las columnas visitor_id y transaction_id de grupo A\n",
    "ordersByUsersA = orders_us[orders_us['group'] == 'A'].groupby(\n",
    "    'visitor_id', as_index=False).agg({'transaction_id': pd.Series.nunique})\n",
    "ordersByUsersA.columns = ['userId', 'orders']\n",
    "\n",
    "# Se agrupan los datos para almacenaer las columnas visitor_id y transaction_id de grupo B\n",
    "ordersByUsersB = orders_us[orders_us['group'] == 'B'].groupby(\n",
    "    'visitor_id', as_index=False).agg({'transaction_id': pd.Series.nunique})\n",
    "ordersByUsersB.columns = ['userId', 'orders']\n",
    "\n",
    "# Se crean las muestras con el numero de usuarios por grupo y el numero de pedidos de cada uno\n",
    "sampleA = pd.concat([ordersByUsersA['orders'], pd.Series(0, index=np.arange(\n",
    "    visits_us[visits_us['group'] == 'A']['visits'].sum() - len(ordersByUsersA['orders'])), name='orders')], axis=0)\n",
    "\n",
    "sampleB = pd.concat([ordersByUsersB['orders'], pd.Series(0, index=np.arange(\n",
    "    visits_us[visits_us['group'] == 'B']['visits'].sum() - len(ordersByUsersB['orders'])), name='orders')], axis=0)\n",
    "\n",
    "# Se imprime la tasa de conversion de grupo A\n",
    "print(\"{0:.3f}\".format(stats.mannwhitneyu(sampleA, sampleB)[1]))\n",
    "\n",
    "# Se imprime la tasa de conversion de grupo B\n",
    "print(\"{0:.3f}\".format(sampleB.mean()/sampleA.mean()-1))"
   ]
  },
  {
   "cell_type": "markdown",
   "metadata": {},
   "source": [
    "El primer valor da 0.017 que es menor que 0.05. Esto significa que podemos rechazar la hipotesis nula. Por otro lado en el grupo B tenemos 13.8% que seria una ganancia relativa de los datos en bruto. La conclusion de los datos en bruto que se pueden sacar es que no hay diferencia entre los grupos A y B."
   ]
  },
  {
   "cell_type": "markdown",
   "metadata": {},
   "source": [
    "### 3.10 Encuentra la significancia estadística de la diferencia en el tamaño promedio de pedido entre los grupos utilizando los datos en bruto. Haz conclusiones y conjeturas."
   ]
  },
  {
   "cell_type": "code",
   "execution_count": 30,
   "metadata": {},
   "outputs": [
    {
     "name": "stdout",
     "output_type": "stream",
     "text": [
      "0.692\n",
      "0.252\n"
     ]
    }
   ],
   "source": [
    "# Se calcula importancia estadística de la diferencia en el tamaño medio de los pedidos de los segmentos con mannwhitneyu\n",
    "print('{0:.3f}'.format(stats.mannwhitneyu(\n",
    "    orders_us[orders_us['group'] == 'A']['revenue'], orders_us[orders_us['group'] == 'B']['revenue'])[1]))\n",
    "\n",
    "# Se calclula la direncia relativa del tamaño del promedio\n",
    "print('{0:.3f}'.format(orders_us[orders_us['group'] == 'B']['revenue'].mean(\n",
    ")/orders_us[orders_us['group'] == 'A']['revenue'].mean()-1))"
   ]
  },
  {
   "cell_type": "markdown",
   "metadata": {},
   "source": [
    "Se puede obervar que el valor p es superior a 0.05 por lo que no se puede rechazar la hipotesis nula, el tamaño promedio entre los grupos difiere. En el segundo valor obtenido se observa que el tamaño promedio para el grupo B es mas pequeño."
   ]
  },
  {
   "cell_type": "markdown",
   "metadata": {},
   "source": [
    "<div class=\"alert alert-block alert-warning\">\n",
    "<b>Comentario general (1ra Iteracion)</b> <a class=“tocSkip”></a>\n",
    "\n",
    "Buen trabajo aplicando las pruebas de hipótesis con los datos sin filtrar, veamos como resulta la misma prueba con los datos filtrados. Te recomiendo que aproveches más los strings formateados agregando texto que describa el valor que vas a mostrar, así es más fácil entender lo que quieres comunicar con esos números\n",
    "</div>"
   ]
  },
  {
   "cell_type": "markdown",
   "metadata": {},
   "source": [
    "### 3.11 Encuentra la significancia estadística de la diferencia en la conversión entre los grupos utilizando los datos filtrados. Haz conclusiones y conjeturas."
   ]
  },
  {
   "cell_type": "code",
   "execution_count": 31,
   "metadata": {},
   "outputs": [
    {
     "name": "stdout",
     "output_type": "stream",
     "text": [
      "0.019\n",
      "0.141\n"
     ]
    }
   ],
   "source": [
    "# Primero hay que revisar los usuarios anomalos, es decir los hiceron varios pedidos y los que hicieron pedidos costosos\n",
    "\n",
    "# Se crea un slice con los usuarios que hicieron mas de 5 ordenes, esto se define en base al grafico de disperion del punto 3.5\n",
    "usersWithManyOrders = pd.concat([ordersByUsersA[ordersByUsersA['orders'] > 5]\n",
    "                                ['userId'], ordersByUsersB[ordersByUsersB['orders'] > 5]['userId']], axis=0)\n",
    "\n",
    "# Se crea un slice con los usuarios que hicieron pedidos mayores a 2500, esto se define en base al grafico de dispesion del punto 3.7\n",
    "usersWithExpensiveOrders = orders_us[orders_us['revenue'] > 2500]['visitor_id']\n",
    "\n",
    "# Se unen los datos con un conact, se borran los duplicados y se ordenan los datos\n",
    "abnormalUsers = pd.concat(\n",
    "    [usersWithManyOrders, usersWithExpensiveOrders], axis=0).drop_duplicates().sort_values()\n",
    "\n",
    "# Se crea el filtrado de los datos del grupo A\n",
    "sampleAFiltered = pd.concat([ordersByUsersA[np.logical_not(ordersByUsersA['userId'].isin(abnormalUsers))]['orders'], pd.Series(\n",
    "    0, index=np.arange(visits_us[visits_us['group'] == 'A']['visits'].sum() - len(ordersByUsersA['orders'])), name='orders')], axis=0)\n",
    "\n",
    "# Se crea el filtrado de los datos del grupo B\n",
    "sampleBFiltered = pd.concat([ordersByUsersB[np.logical_not(ordersByUsersB['userId'].isin(abnormalUsers))]['orders'], pd.Series(\n",
    "    0, index=np.arange(visits_us[visits_us['group'] == 'B']['visits'].sum() - len(ordersByUsersB['orders'])), name='orders')], axis=0)\n",
    "\n",
    "# Imprimen las muestras resultantes aplicando el metodo Mann-Whitney\n",
    "print(\"{0:.3f}\".format(stats.mannwhitneyu(sampleAFiltered, sampleBFiltered)[1]))\n",
    "print(\"{0:.3f}\".format(sampleBFiltered.mean()/sampleAFiltered.mean()-1))"
   ]
  },
  {
   "cell_type": "markdown",
   "metadata": {},
   "source": [
    "Estos resultados obtenidos ya con los datos filtrados no revelan estadisticas significativas, ya que son muy similares los resultados entre el grupo A y B."
   ]
  },
  {
   "cell_type": "markdown",
   "metadata": {},
   "source": [
    "### 3.12 Encuentra la significancia estadística de la diferencia en el tamaño promedio de pedido entre los grupos utilizando los datos filtrados. Haz conclusiones y conjeturas."
   ]
  },
  {
   "cell_type": "code",
   "execution_count": 32,
   "metadata": {},
   "outputs": [
    {
     "name": "stdout",
     "output_type": "stream",
     "text": [
      "0.849\n",
      "-0.076\n"
     ]
    }
   ],
   "source": [
    "print('{0:.3f}'.format(stats.mannwhitneyu(\n",
    "    orders_us[np.logical_and(\n",
    "        orders_us['group']=='A',\n",
    "        np.logical_not(orders_us['visitor_id'].isin(abnormalUsers)))]['revenue'],\n",
    "    orders_us[np.logical_and(\n",
    "        orders_us['group']=='B',\n",
    "        np.logical_not(orders_us['visitor_id'].isin(abnormalUsers)))]['revenue'])[1]))\n",
    "\n",
    "print('{0:.3f}'.format(\n",
    "    orders_us[np.logical_and(orders_us['group']=='B',np.logical_not(orders_us['visitor_id'].isin(abnormalUsers)))]['revenue'].mean()/\n",
    "    orders_us[np.logical_and(\n",
    "        orders_us['group']=='A',\n",
    "        np.logical_not(orders_us['visitor_id'].isin(abnormalUsers)))]['revenue'].mean() - 1))"
   ]
  },
  {
   "cell_type": "markdown",
   "metadata": {},
   "source": [
    "El valor p aumentó pero ahora la diferencia entre los segmentos es del 7%"
   ]
  },
  {
   "cell_type": "markdown",
   "metadata": {},
   "source": [
    "### 3.13 Toma una decisión basada en los resultados de la prueba. Las decisiones posibles son: 1. Para la prueba, considera a uno de los grupos como líder. 2. Para la prueba, concluye que no hay diferencia entre los grupos. 3. Continúa la prueba."
   ]
  },
  {
   "cell_type": "markdown",
   "metadata": {},
   "source": [
    "Basado en los resultados obtenidos de las pruebas de tanto de los datos en bruto como de los datos filtados podemos concluir que lo ideal es la opcion 2. Parar la prueba y concluir que no hay diferencia entre los grupos A y B, por lo que no tiene caso continuar. "
   ]
  },
  {
   "cell_type": "markdown",
   "metadata": {},
   "source": [
    "<div class=\"alert alert-block alert-success\">\n",
    "<b>Comentario general (1ra Iteracion)</b> <a class=“tocSkip”></a>\n",
    "\n",
    "Muy bien aplicada la prueba de hipótesis con los datos filtrados!\n",
    "</div>"
   ]
  },
  {
   "cell_type": "markdown",
   "metadata": {},
   "source": [
    "# Conclusión"
   ]
  },
  {
   "cell_type": "markdown",
   "metadata": {},
   "source": [
    "Las pruebas A/B son una herramienta valiosa para los negocios, ya que permiten evaluar de manera precisa si los cambios implementados están atrayendo más clientes. Estas pruebas facilitan la mejora continua de la experiencia del usuario, impulsan la conversión y mejoran las tasas de retención. Sin embargo, es crucial analizar los resultados obtenidos para determinar la efectividad de las modificaciones realizadas.\n",
    "\n",
    "En este trabajo, se llevaron a cabo pruebas A/B para evaluar el impacto de ciertos cambios en el comportamiento de los usuarios. Los resultados mostraron que ni los datos en bruto ni los datos filtrados presentaron diferencias significativas. Específicamente, los datos sin procesar no revelaron una diferencia estadísticamente significativa entre los grupos en términos de tamaño promedio de compra.\n",
    "\n",
    "Dado que no se observaron diferencias significativas, se concluye que no es conveniente continuar con la prueba. Continuar con ella representaría un gasto innecesario que no justifica los beneficios esperados. Por lo tanto, se recomienda detener la prueba y considerar otras estrategias o enfoques que puedan ser más efectivos para alcanzar los objetivos del negocio.\n",
    "\n",
    "En resumen, aunque las pruebas A/B son una herramienta poderosa para la optimización de la experiencia del usuario y el aumento de la conversión, es fundamental evaluar los resultados de manera crítica. En este caso, la falta de diferencias significativas sugiere que los cambios implementados no tuvieron el impacto deseado, y por lo tanto, no se justifica seguir invirtiendo recursos en esta prueba específica.\n",
    "\n",
    "\n"
   ]
  },
  {
   "cell_type": "markdown",
   "metadata": {},
   "source": [
    "<div class=\"alert alert-block alert-success\">\n",
    "<b>Comentario general (1ra Iteracion)</b> <a class=“tocSkip”></a>\n",
    "\n",
    "Hiciste un buen trabajo con las visualizaciones, los cálculos y  los ejercicios propuestos los has resuelto muy bien planteando conclusiones claras sobre los resultados obtenidos en cada paso.\n",
    "    \n",
    "Planteaste muy buenas conclusiones en base a tus datos que es un punto importante que deben tener tus proyectos, como Data Analyst debes buscar apoyar en la toma de decisiones basadas en datos.\n",
    "    \n",
    "Saludos!\n",
    "</div>"
   ]
  }
 ],
 "metadata": {
  "ExecuteTimeLog": [
   {
    "duration": 2486,
    "start_time": "2024-09-11T05:05:53.439Z"
   },
   {
    "duration": 23,
    "start_time": "2024-09-11T05:05:55.928Z"
   },
   {
    "duration": 3,
    "start_time": "2024-09-11T05:05:55.953Z"
   },
   {
    "duration": 16,
    "start_time": "2024-09-11T05:05:55.958Z"
   },
   {
    "duration": 13,
    "start_time": "2024-09-11T05:05:55.977Z"
   },
   {
    "duration": 4,
    "start_time": "2024-09-11T05:05:55.992Z"
   },
   {
    "duration": 6,
    "start_time": "2024-09-11T05:05:55.998Z"
   },
   {
    "duration": 8,
    "start_time": "2024-09-11T05:05:56.005Z"
   },
   {
    "duration": 13,
    "start_time": "2024-09-11T05:05:56.015Z"
   },
   {
    "duration": 43,
    "start_time": "2024-09-11T05:05:56.030Z"
   },
   {
    "duration": 6,
    "start_time": "2024-09-11T05:05:56.075Z"
   },
   {
    "duration": 8,
    "start_time": "2024-09-11T05:05:56.083Z"
   },
   {
    "duration": 10,
    "start_time": "2024-09-11T05:05:56.093Z"
   },
   {
    "duration": 3,
    "start_time": "2024-09-11T05:05:56.106Z"
   },
   {
    "duration": 7,
    "start_time": "2024-09-11T05:05:56.110Z"
   },
   {
    "duration": 6,
    "start_time": "2024-09-11T05:05:56.118Z"
   },
   {
    "duration": 47,
    "start_time": "2024-09-11T05:05:56.126Z"
   },
   {
    "duration": 8,
    "start_time": "2024-09-11T05:05:56.174Z"
   },
   {
    "duration": 7,
    "start_time": "2024-09-11T05:05:56.184Z"
   },
   {
    "duration": 7,
    "start_time": "2024-09-11T05:05:56.192Z"
   },
   {
    "duration": 154,
    "start_time": "2024-09-11T05:05:56.201Z"
   },
   {
    "duration": 363,
    "start_time": "2024-09-11T05:05:56.357Z"
   },
   {
    "duration": 2,
    "start_time": "2024-09-11T05:06:10.672Z"
   },
   {
    "duration": 12,
    "start_time": "2024-09-11T05:06:13.227Z"
   },
   {
    "duration": 111,
    "start_time": "2024-09-11T05:10:08.778Z"
   },
   {
    "duration": 182,
    "start_time": "2024-09-11T05:10:42.740Z"
   },
   {
    "duration": 6,
    "start_time": "2024-09-11T05:19:48.564Z"
   },
   {
    "duration": 7,
    "start_time": "2024-09-11T05:19:51.513Z"
   },
   {
    "duration": 10,
    "start_time": "2024-09-11T05:20:14.146Z"
   },
   {
    "duration": 122,
    "start_time": "2024-09-11T05:24:05.691Z"
   },
   {
    "duration": 235,
    "start_time": "2024-09-11T05:25:26.198Z"
   },
   {
    "duration": 643,
    "start_time": "2024-09-11T05:27:06.075Z"
   },
   {
    "duration": 42,
    "start_time": "2024-09-11T05:27:18.087Z"
   },
   {
    "duration": 3,
    "start_time": "2024-09-11T05:27:24.150Z"
   },
   {
    "duration": 15,
    "start_time": "2024-09-11T05:27:24.155Z"
   },
   {
    "duration": 3,
    "start_time": "2024-09-11T05:27:24.171Z"
   },
   {
    "duration": 8,
    "start_time": "2024-09-11T05:27:24.176Z"
   },
   {
    "duration": 10,
    "start_time": "2024-09-11T05:27:24.185Z"
   },
   {
    "duration": 3,
    "start_time": "2024-09-11T05:27:24.197Z"
   },
   {
    "duration": 6,
    "start_time": "2024-09-11T05:27:24.202Z"
   },
   {
    "duration": 9,
    "start_time": "2024-09-11T05:27:24.209Z"
   },
   {
    "duration": 53,
    "start_time": "2024-09-11T05:27:24.221Z"
   },
   {
    "duration": 6,
    "start_time": "2024-09-11T05:27:24.275Z"
   },
   {
    "duration": 7,
    "start_time": "2024-09-11T05:27:24.282Z"
   },
   {
    "duration": 8,
    "start_time": "2024-09-11T05:27:24.290Z"
   },
   {
    "duration": 9,
    "start_time": "2024-09-11T05:27:24.300Z"
   },
   {
    "duration": 3,
    "start_time": "2024-09-11T05:27:24.311Z"
   },
   {
    "duration": 6,
    "start_time": "2024-09-11T05:27:24.316Z"
   },
   {
    "duration": 50,
    "start_time": "2024-09-11T05:27:24.323Z"
   },
   {
    "duration": 6,
    "start_time": "2024-09-11T05:27:24.375Z"
   },
   {
    "duration": 7,
    "start_time": "2024-09-11T05:27:24.384Z"
   },
   {
    "duration": 6,
    "start_time": "2024-09-11T05:27:24.393Z"
   },
   {
    "duration": 6,
    "start_time": "2024-09-11T05:27:24.400Z"
   },
   {
    "duration": 219,
    "start_time": "2024-09-11T05:27:24.407Z"
   },
   {
    "duration": 373,
    "start_time": "2024-09-11T05:27:24.628Z"
   },
   {
    "duration": 139,
    "start_time": "2024-09-11T05:27:25.003Z"
   },
   {
    "duration": 5,
    "start_time": "2024-09-11T05:27:25.145Z"
   },
   {
    "duration": 0,
    "start_time": "2024-09-11T05:27:25.151Z"
   },
   {
    "duration": 216,
    "start_time": "2024-09-11T05:28:02.702Z"
   },
   {
    "duration": 241,
    "start_time": "2024-09-11T05:29:41.280Z"
   },
   {
    "duration": 11,
    "start_time": "2024-09-11T05:38:56.664Z"
   },
   {
    "duration": 6,
    "start_time": "2024-09-11T05:42:02.860Z"
   },
   {
    "duration": 10,
    "start_time": "2024-09-11T05:42:10.489Z"
   },
   {
    "duration": 151,
    "start_time": "2024-09-11T05:43:02.088Z"
   },
   {
    "duration": 2543,
    "start_time": "2024-09-12T03:07:42.269Z"
   },
   {
    "duration": 24,
    "start_time": "2024-09-12T03:07:44.814Z"
   },
   {
    "duration": 3,
    "start_time": "2024-09-12T03:07:44.839Z"
   },
   {
    "duration": 9,
    "start_time": "2024-09-12T03:07:44.844Z"
   },
   {
    "duration": 13,
    "start_time": "2024-09-12T03:07:44.854Z"
   },
   {
    "duration": 3,
    "start_time": "2024-09-12T03:07:44.869Z"
   },
   {
    "duration": 15,
    "start_time": "2024-09-12T03:07:44.873Z"
   },
   {
    "duration": 8,
    "start_time": "2024-09-12T03:07:44.889Z"
   },
   {
    "duration": 13,
    "start_time": "2024-09-12T03:07:44.899Z"
   },
   {
    "duration": 4,
    "start_time": "2024-09-12T03:07:44.915Z"
   },
   {
    "duration": 8,
    "start_time": "2024-09-12T03:07:44.921Z"
   },
   {
    "duration": 7,
    "start_time": "2024-09-12T03:07:44.930Z"
   },
   {
    "duration": 51,
    "start_time": "2024-09-12T03:07:44.939Z"
   },
   {
    "duration": 2,
    "start_time": "2024-09-12T03:07:44.992Z"
   },
   {
    "duration": 6,
    "start_time": "2024-09-12T03:07:44.996Z"
   },
   {
    "duration": 7,
    "start_time": "2024-09-12T03:07:45.003Z"
   },
   {
    "duration": 6,
    "start_time": "2024-09-12T03:07:45.012Z"
   },
   {
    "duration": 8,
    "start_time": "2024-09-12T03:07:45.019Z"
   },
   {
    "duration": 8,
    "start_time": "2024-09-12T03:07:45.028Z"
   },
   {
    "duration": 6,
    "start_time": "2024-09-12T03:07:45.037Z"
   },
   {
    "duration": 270,
    "start_time": "2024-09-12T03:07:45.087Z"
   },
   {
    "duration": 369,
    "start_time": "2024-09-12T03:07:45.359Z"
   },
   {
    "duration": 139,
    "start_time": "2024-09-12T03:07:45.730Z"
   },
   {
    "duration": 226,
    "start_time": "2024-09-12T03:07:45.870Z"
   },
   {
    "duration": 204,
    "start_time": "2024-09-12T03:07:46.098Z"
   },
   {
    "duration": 13,
    "start_time": "2024-09-12T03:32:37.088Z"
   },
   {
    "duration": 2,
    "start_time": "2024-09-12T03:43:59.376Z"
   },
   {
    "duration": 8,
    "start_time": "2024-09-12T03:44:51.394Z"
   },
   {
    "duration": 12,
    "start_time": "2024-09-12T03:46:54.727Z"
   },
   {
    "duration": 11,
    "start_time": "2024-09-12T03:47:47.784Z"
   },
   {
    "duration": 10,
    "start_time": "2024-09-12T03:48:06.855Z"
   },
   {
    "duration": 213,
    "start_time": "2024-09-12T04:28:00.791Z"
   },
   {
    "duration": 756,
    "start_time": "2024-09-12T04:28:11.340Z"
   },
   {
    "duration": 16,
    "start_time": "2024-09-12T04:28:12.098Z"
   },
   {
    "duration": 3,
    "start_time": "2024-09-12T04:28:12.115Z"
   },
   {
    "duration": 8,
    "start_time": "2024-09-12T04:28:12.120Z"
   },
   {
    "duration": 12,
    "start_time": "2024-09-12T04:28:12.129Z"
   },
   {
    "duration": 3,
    "start_time": "2024-09-12T04:28:12.143Z"
   },
   {
    "duration": 6,
    "start_time": "2024-09-12T04:28:12.148Z"
   },
   {
    "duration": 37,
    "start_time": "2024-09-12T04:28:12.156Z"
   },
   {
    "duration": 13,
    "start_time": "2024-09-12T04:28:12.195Z"
   },
   {
    "duration": 5,
    "start_time": "2024-09-12T04:28:12.211Z"
   },
   {
    "duration": 6,
    "start_time": "2024-09-12T04:28:12.218Z"
   },
   {
    "duration": 8,
    "start_time": "2024-09-12T04:28:12.226Z"
   },
   {
    "duration": 10,
    "start_time": "2024-09-12T04:28:12.236Z"
   },
   {
    "duration": 41,
    "start_time": "2024-09-12T04:28:12.247Z"
   },
   {
    "duration": 6,
    "start_time": "2024-09-12T04:28:12.290Z"
   },
   {
    "duration": 7,
    "start_time": "2024-09-12T04:28:12.297Z"
   },
   {
    "duration": 6,
    "start_time": "2024-09-12T04:28:12.305Z"
   },
   {
    "duration": 7,
    "start_time": "2024-09-12T04:28:12.313Z"
   },
   {
    "duration": 6,
    "start_time": "2024-09-12T04:28:12.322Z"
   },
   {
    "duration": 6,
    "start_time": "2024-09-12T04:28:12.329Z"
   },
   {
    "duration": 300,
    "start_time": "2024-09-12T04:28:12.337Z"
   },
   {
    "duration": 362,
    "start_time": "2024-09-12T04:28:12.639Z"
   },
   {
    "duration": 198,
    "start_time": "2024-09-12T04:28:13.002Z"
   },
   {
    "duration": 244,
    "start_time": "2024-09-12T04:28:13.202Z"
   },
   {
    "duration": 169,
    "start_time": "2024-09-12T04:28:13.447Z"
   },
   {
    "duration": 244,
    "start_time": "2024-09-12T04:28:13.617Z"
   },
   {
    "duration": 0,
    "start_time": "2024-09-12T04:28:13.863Z"
   },
   {
    "duration": 0,
    "start_time": "2024-09-12T04:28:13.864Z"
   },
   {
    "duration": 11,
    "start_time": "2024-09-12T04:28:21.491Z"
   },
   {
    "duration": 11,
    "start_time": "2024-09-12T04:31:49.430Z"
   },
   {
    "duration": 334,
    "start_time": "2024-09-12T04:32:00.451Z"
   },
   {
    "duration": 10,
    "start_time": "2024-09-12T04:32:14.764Z"
   },
   {
    "duration": 10,
    "start_time": "2024-09-12T04:32:58.545Z"
   },
   {
    "duration": 13,
    "start_time": "2024-09-12T04:33:19.010Z"
   },
   {
    "duration": 4,
    "start_time": "2024-09-12T04:34:07.311Z"
   },
   {
    "duration": 9,
    "start_time": "2024-09-12T04:34:14.365Z"
   },
   {
    "duration": 10,
    "start_time": "2024-09-12T04:34:25.610Z"
   },
   {
    "duration": 766,
    "start_time": "2024-09-12T04:40:28.095Z"
   },
   {
    "duration": 16,
    "start_time": "2024-09-12T04:40:50.218Z"
   },
   {
    "duration": 7,
    "start_time": "2024-09-12T04:41:54.312Z"
   },
   {
    "duration": 109,
    "start_time": "2024-09-12T04:43:20.659Z"
   },
   {
    "duration": 107,
    "start_time": "2024-09-12T04:44:12.502Z"
   },
   {
    "duration": 6,
    "start_time": "2024-09-12T04:46:05.706Z"
   },
   {
    "duration": 197,
    "start_time": "2024-09-12T04:47:33.646Z"
   },
   {
    "duration": 117,
    "start_time": "2024-09-12T04:47:48.358Z"
   },
   {
    "duration": 5,
    "start_time": "2024-09-12T04:48:09.676Z"
   },
   {
    "duration": 8,
    "start_time": "2024-09-12T04:48:24.142Z"
   },
   {
    "duration": 5,
    "start_time": "2024-09-12T04:57:20.950Z"
   },
   {
    "duration": 8,
    "start_time": "2024-09-12T04:57:24.479Z"
   },
   {
    "duration": 15,
    "start_time": "2024-09-12T04:57:59.395Z"
   },
   {
    "duration": 4,
    "start_time": "2024-09-12T04:58:06.360Z"
   },
   {
    "duration": 4,
    "start_time": "2024-09-12T04:58:20.008Z"
   },
   {
    "duration": 4,
    "start_time": "2024-09-12T04:58:23.480Z"
   },
   {
    "duration": 6,
    "start_time": "2024-09-12T04:58:32.627Z"
   },
   {
    "duration": 5,
    "start_time": "2024-09-12T04:58:53.041Z"
   },
   {
    "duration": 6,
    "start_time": "2024-09-12T04:59:29.693Z"
   },
   {
    "duration": 6,
    "start_time": "2024-09-12T04:59:45.128Z"
   },
   {
    "duration": 6,
    "start_time": "2024-09-12T04:59:48.674Z"
   },
   {
    "duration": 4,
    "start_time": "2024-09-12T04:59:53.138Z"
   },
   {
    "duration": 5,
    "start_time": "2024-09-12T04:59:56.729Z"
   },
   {
    "duration": 5,
    "start_time": "2024-09-12T05:00:01.373Z"
   },
   {
    "duration": 4,
    "start_time": "2024-09-12T05:00:02.138Z"
   },
   {
    "duration": 6,
    "start_time": "2024-09-12T05:00:09.319Z"
   },
   {
    "duration": 6,
    "start_time": "2024-09-12T05:00:39.803Z"
   },
   {
    "duration": 10,
    "start_time": "2024-09-12T05:01:10.129Z"
   },
   {
    "duration": 10,
    "start_time": "2024-09-12T05:01:41.202Z"
   },
   {
    "duration": 42,
    "start_time": "2024-09-12T05:03:02.765Z"
   },
   {
    "duration": 120,
    "start_time": "2024-09-12T05:03:15.810Z"
   },
   {
    "duration": 106,
    "start_time": "2024-09-12T05:03:55.692Z"
   },
   {
    "duration": 127,
    "start_time": "2024-09-12T05:04:12.820Z"
   },
   {
    "duration": 10,
    "start_time": "2024-09-12T05:06:09.784Z"
   },
   {
    "duration": 102,
    "start_time": "2024-09-12T05:06:14.585Z"
   },
   {
    "duration": 8,
    "start_time": "2024-09-12T05:07:52.773Z"
   },
   {
    "duration": 338,
    "start_time": "2024-09-12T05:08:03.364Z"
   },
   {
    "duration": 6,
    "start_time": "2024-09-12T05:08:17.076Z"
   },
   {
    "duration": 6,
    "start_time": "2024-09-12T05:08:41.728Z"
   },
   {
    "duration": 7,
    "start_time": "2024-09-12T05:10:02.534Z"
   },
   {
    "duration": 7,
    "start_time": "2024-09-12T05:10:07.445Z"
   },
   {
    "duration": 154,
    "start_time": "2024-09-12T05:10:10.350Z"
   },
   {
    "duration": 6,
    "start_time": "2024-09-12T05:10:27.728Z"
   },
   {
    "duration": 6,
    "start_time": "2024-09-12T05:10:32.684Z"
   },
   {
    "duration": 5,
    "start_time": "2024-09-12T05:10:50.131Z"
   },
   {
    "duration": 819,
    "start_time": "2024-09-18T03:36:34.407Z"
   },
   {
    "duration": 27,
    "start_time": "2024-09-18T03:36:35.230Z"
   },
   {
    "duration": 3,
    "start_time": "2024-09-18T03:36:35.259Z"
   },
   {
    "duration": 8,
    "start_time": "2024-09-18T03:36:35.265Z"
   },
   {
    "duration": 12,
    "start_time": "2024-09-18T03:36:35.275Z"
   },
   {
    "duration": 3,
    "start_time": "2024-09-18T03:36:35.289Z"
   },
   {
    "duration": 9,
    "start_time": "2024-09-18T03:36:35.294Z"
   },
   {
    "duration": 24,
    "start_time": "2024-09-18T03:36:35.305Z"
   },
   {
    "duration": 14,
    "start_time": "2024-09-18T03:36:35.331Z"
   },
   {
    "duration": 5,
    "start_time": "2024-09-18T03:36:35.348Z"
   },
   {
    "duration": 7,
    "start_time": "2024-09-18T03:36:35.355Z"
   },
   {
    "duration": 8,
    "start_time": "2024-09-18T03:36:35.364Z"
   },
   {
    "duration": 13,
    "start_time": "2024-09-18T03:36:35.374Z"
   },
   {
    "duration": 38,
    "start_time": "2024-09-18T03:36:35.388Z"
   },
   {
    "duration": 7,
    "start_time": "2024-09-18T03:36:35.428Z"
   },
   {
    "duration": 8,
    "start_time": "2024-09-18T03:36:35.436Z"
   },
   {
    "duration": 7,
    "start_time": "2024-09-18T03:36:35.445Z"
   },
   {
    "duration": 6,
    "start_time": "2024-09-18T03:36:35.454Z"
   },
   {
    "duration": 6,
    "start_time": "2024-09-18T03:36:35.462Z"
   },
   {
    "duration": 322,
    "start_time": "2024-09-18T03:36:35.469Z"
   },
   {
    "duration": 385,
    "start_time": "2024-09-18T03:36:35.793Z"
   },
   {
    "duration": 194,
    "start_time": "2024-09-18T03:36:36.180Z"
   },
   {
    "duration": 229,
    "start_time": "2024-09-18T03:36:36.377Z"
   },
   {
    "duration": 185,
    "start_time": "2024-09-18T03:36:36.608Z"
   },
   {
    "duration": 248,
    "start_time": "2024-09-18T03:36:36.795Z"
   },
   {
    "duration": 4,
    "start_time": "2024-09-18T03:36:37.045Z"
   },
   {
    "duration": 152,
    "start_time": "2024-09-18T03:36:37.054Z"
   },
   {
    "duration": 4,
    "start_time": "2024-09-18T03:36:37.211Z"
   },
   {
    "duration": 171,
    "start_time": "2024-09-18T03:36:37.225Z"
   },
   {
    "duration": 8,
    "start_time": "2024-09-18T03:36:37.399Z"
   },
   {
    "duration": 42,
    "start_time": "2024-09-18T03:36:37.409Z"
   },
   {
    "duration": 12,
    "start_time": "2024-09-18T03:36:37.453Z"
   }
  ],
  "kernelspec": {
   "display_name": "Python 3 (ipykernel)",
   "language": "python",
   "name": "python3"
  },
  "language_info": {
   "codemirror_mode": {
    "name": "ipython",
    "version": 3
   },
   "file_extension": ".py",
   "mimetype": "text/x-python",
   "name": "python",
   "nbconvert_exporter": "python",
   "pygments_lexer": "ipython3",
   "version": "3.9.19"
  },
  "toc": {
   "base_numbering": 1,
   "nav_menu": {},
   "number_sections": true,
   "sideBar": true,
   "skip_h1_title": true,
   "title_cell": "Table of Contents",
   "title_sidebar": "Contents",
   "toc_cell": false,
   "toc_position": {},
   "toc_section_display": true,
   "toc_window_display": false
  }
 },
 "nbformat": 4,
 "nbformat_minor": 2
}
